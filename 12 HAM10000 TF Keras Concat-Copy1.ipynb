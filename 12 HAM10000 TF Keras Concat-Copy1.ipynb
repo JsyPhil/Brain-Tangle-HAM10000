{
 "cells": [
  {
   "cell_type": "code",
   "execution_count": 1,
   "metadata": {},
   "outputs": [],
   "source": [
    "# pip install tensorflow "
   ]
  },
  {
   "cell_type": "code",
   "execution_count": 2,
   "metadata": {},
   "outputs": [],
   "source": [
    "# pip install scikit-learn"
   ]
  },
  {
   "cell_type": "code",
   "execution_count": 3,
   "metadata": {},
   "outputs": [],
   "source": [
    "# pip install opencv-python"
   ]
  },
  {
   "cell_type": "code",
   "execution_count": 4,
   "metadata": {},
   "outputs": [],
   "source": [
    "import tensorflow as tf\n",
    "from tensorflow import keras\n",
    "from tensorflow.keras.optimizers import Adam\n",
    "from sklearn.preprocessing import OneHotEncoder\n",
    "from sklearn.metrics import confusion_matrix\n",
    "from sklearn.metrics import classification_report\n",
    "import numpy as np\n",
    "import pandas as pd\n",
    "import cv2\n",
    "import matplotlib.pyplot as plt\n",
    "from tensorflow.keras.applications.vgg16 import VGG16\n",
    "from tensorflow.keras.callbacks import ModelCheckpoint"
   ]
  },
  {
   "cell_type": "code",
   "execution_count": 5,
   "metadata": {},
   "outputs": [],
   "source": [
    "csv_train = pd.read_csv('./datasets/skin-cancer-mnist-ham10000/HAM10000_metadata_cleansed_train.csv',sep=',')\n",
    "csv_test = pd.read_csv('./datasets/skin-cancer-mnist-ham10000/HAM10000_metadata_cleansed_test.csv',sep=',')"
   ]
  },
  {
   "cell_type": "code",
   "execution_count": 6,
   "metadata": {},
   "outputs": [],
   "source": [
    "dx_cat = {'bkl':0, 'nv':1, 'df':2, 'mel':3, 'vasc':4, 'bcc':5, 'akiec':6}\n",
    "dx_type_cat = {'histo':0, 'follow_up':.3, 'consensus':.6, 'confocal':.9}\n",
    "sex_cat = {'male':0, 'female':1, 'unknown':.5}\n",
    "localization_cat = {'back':0, 'face':.07, 'lower extremity':.14, 'trunk':.21, 'abdomen':.28, 'upper extremity':.35,\n",
    "                    'foot':.42, 'scalp':.49, 'unknown':.56, 'ear':.63, 'hand':.7, 'chest':.77, 'neck':.84,\n",
    "                    'genital':.91, 'acral':.98}\n",
    "\n",
    "csv_train.age = csv_train.age.astype(float)\n",
    "csv_train.age = csv_train.age/np.max(csv_train.age)\n",
    "\n",
    "csv_train.dx = csv_train.dx.map(dx_cat).astype(float)\n",
    "csv_train.dx_type = csv_train.dx_type.map(dx_type_cat).astype(float)\n",
    "csv_train.sex = csv_train.sex.map(sex_cat).astype(float)\n",
    "csv_train.localization = csv_train.localization.map(localization_cat).astype(float)\n",
    "\n",
    "csv_test.age = csv_test.age.astype(float)\n",
    "csv_test.age = csv_test.age/np.max(csv_test.age)\n",
    "\n",
    "csv_test.dx = csv_test.dx.map(dx_cat).astype(float)\n",
    "csv_test.dx_type = csv_test.dx_type.map(dx_type_cat).astype(float)\n",
    "csv_test.sex = csv_test.sex.map(sex_cat).astype(float)\n",
    "csv_test.localization = csv_test.localization.map(localization_cat).astype(float)"
   ]
  },
  {
   "cell_type": "code",
   "execution_count": 7,
   "metadata": {},
   "outputs": [
    {
     "data": {
      "text/html": [
       "<div>\n",
       "<style scoped>\n",
       "    .dataframe tbody tr th:only-of-type {\n",
       "        vertical-align: middle;\n",
       "    }\n",
       "\n",
       "    .dataframe tbody tr th {\n",
       "        vertical-align: top;\n",
       "    }\n",
       "\n",
       "    .dataframe thead th {\n",
       "        text-align: right;\n",
       "    }\n",
       "</style>\n",
       "<table border=\"1\" class=\"dataframe\">\n",
       "  <thead>\n",
       "    <tr style=\"text-align: right;\">\n",
       "      <th></th>\n",
       "      <th>lesion_id</th>\n",
       "      <th>image_id</th>\n",
       "      <th>dx</th>\n",
       "      <th>dx_type</th>\n",
       "      <th>age</th>\n",
       "      <th>sex</th>\n",
       "      <th>localization</th>\n",
       "    </tr>\n",
       "  </thead>\n",
       "  <tbody>\n",
       "    <tr>\n",
       "      <td>0</td>\n",
       "      <td>HAM_0000005</td>\n",
       "      <td>ISIC_0025577</td>\n",
       "      <td>6.0</td>\n",
       "      <td>0.0</td>\n",
       "      <td>0.882353</td>\n",
       "      <td>1.0</td>\n",
       "      <td>0.14</td>\n",
       "    </tr>\n",
       "    <tr>\n",
       "      <td>1</td>\n",
       "      <td>HAM_0000005</td>\n",
       "      <td>ISIC_0030591</td>\n",
       "      <td>6.0</td>\n",
       "      <td>0.0</td>\n",
       "      <td>0.882353</td>\n",
       "      <td>1.0</td>\n",
       "      <td>0.14</td>\n",
       "    </tr>\n",
       "    <tr>\n",
       "      <td>2</td>\n",
       "      <td>HAM_0000005</td>\n",
       "      <td>ISIC_0024579</td>\n",
       "      <td>6.0</td>\n",
       "      <td>0.0</td>\n",
       "      <td>0.882353</td>\n",
       "      <td>1.0</td>\n",
       "      <td>0.14</td>\n",
       "    </tr>\n",
       "    <tr>\n",
       "      <td>3</td>\n",
       "      <td>HAM_0000005</td>\n",
       "      <td>ISIC_0029638</td>\n",
       "      <td>6.0</td>\n",
       "      <td>0.0</td>\n",
       "      <td>0.882353</td>\n",
       "      <td>1.0</td>\n",
       "      <td>0.14</td>\n",
       "    </tr>\n",
       "    <tr>\n",
       "      <td>4</td>\n",
       "      <td>HAM_0000020</td>\n",
       "      <td>ISIC_0031922</td>\n",
       "      <td>6.0</td>\n",
       "      <td>0.0</td>\n",
       "      <td>0.705882</td>\n",
       "      <td>1.0</td>\n",
       "      <td>0.07</td>\n",
       "    </tr>\n",
       "    <tr>\n",
       "      <td>5</td>\n",
       "      <td>HAM_0000193</td>\n",
       "      <td>ISIC_0030877</td>\n",
       "      <td>6.0</td>\n",
       "      <td>0.0</td>\n",
       "      <td>0.705882</td>\n",
       "      <td>1.0</td>\n",
       "      <td>0.07</td>\n",
       "    </tr>\n",
       "    <tr>\n",
       "      <td>6</td>\n",
       "      <td>HAM_0000193</td>\n",
       "      <td>ISIC_0027950</td>\n",
       "      <td>6.0</td>\n",
       "      <td>0.0</td>\n",
       "      <td>0.705882</td>\n",
       "      <td>1.0</td>\n",
       "      <td>0.07</td>\n",
       "    </tr>\n",
       "    <tr>\n",
       "      <td>7</td>\n",
       "      <td>HAM_0000239</td>\n",
       "      <td>ISIC_0033866</td>\n",
       "      <td>6.0</td>\n",
       "      <td>0.0</td>\n",
       "      <td>0.941176</td>\n",
       "      <td>0.0</td>\n",
       "      <td>0.07</td>\n",
       "    </tr>\n",
       "    <tr>\n",
       "      <td>8</td>\n",
       "      <td>HAM_0000239</td>\n",
       "      <td>ISIC_0032854</td>\n",
       "      <td>6.0</td>\n",
       "      <td>0.0</td>\n",
       "      <td>0.941176</td>\n",
       "      <td>0.0</td>\n",
       "      <td>0.07</td>\n",
       "    </tr>\n",
       "    <tr>\n",
       "      <td>9</td>\n",
       "      <td>HAM_0000356</td>\n",
       "      <td>ISIC_0026171</td>\n",
       "      <td>6.0</td>\n",
       "      <td>0.0</td>\n",
       "      <td>0.705882</td>\n",
       "      <td>1.0</td>\n",
       "      <td>0.07</td>\n",
       "    </tr>\n",
       "  </tbody>\n",
       "</table>\n",
       "</div>"
      ],
      "text/plain": [
       "     lesion_id      image_id   dx  dx_type       age  sex  localization\n",
       "0  HAM_0000005  ISIC_0025577  6.0      0.0  0.882353  1.0          0.14\n",
       "1  HAM_0000005  ISIC_0030591  6.0      0.0  0.882353  1.0          0.14\n",
       "2  HAM_0000005  ISIC_0024579  6.0      0.0  0.882353  1.0          0.14\n",
       "3  HAM_0000005  ISIC_0029638  6.0      0.0  0.882353  1.0          0.14\n",
       "4  HAM_0000020  ISIC_0031922  6.0      0.0  0.705882  1.0          0.07\n",
       "5  HAM_0000193  ISIC_0030877  6.0      0.0  0.705882  1.0          0.07\n",
       "6  HAM_0000193  ISIC_0027950  6.0      0.0  0.705882  1.0          0.07\n",
       "7  HAM_0000239  ISIC_0033866  6.0      0.0  0.941176  0.0          0.07\n",
       "8  HAM_0000239  ISIC_0032854  6.0      0.0  0.941176  0.0          0.07\n",
       "9  HAM_0000356  ISIC_0026171  6.0      0.0  0.705882  1.0          0.07"
      ]
     },
     "metadata": {},
     "output_type": "display_data"
    }
   ],
   "source": [
    "display(csv_train.head(10))"
   ]
  },
  {
   "cell_type": "code",
   "execution_count": 8,
   "metadata": {},
   "outputs": [],
   "source": [
    "#Re-balance data if needed\n",
    "\n",
    "csv_train = csv_train.append(csv_train.loc[csv_train['dx'] == 2.0])\n",
    "csv_train = csv_train.append(csv_train.loc[csv_train['dx'] == 2.0])\n",
    "csv_train = csv_train.append(csv_train.loc[csv_train['dx'] == 4.0])\n",
    "csv_train = csv_train.append(csv_train.loc[csv_train['dx'] == 4.0])\n",
    "csv_train = csv_train.append(csv_train.loc[csv_train['dx'] == 6.0])\n"
   ]
  },
  {
   "cell_type": "code",
   "execution_count": 9,
   "metadata": {},
   "outputs": [],
   "source": [
    "# Returns a 100% sample randomised\n",
    "\n",
    "csv_train = csv_train.sample(frac=1)"
   ]
  },
  {
   "cell_type": "code",
   "execution_count": 10,
   "metadata": {},
   "outputs": [
    {
     "data": {
      "text/html": [
       "<div>\n",
       "<style scoped>\n",
       "    .dataframe tbody tr th:only-of-type {\n",
       "        vertical-align: middle;\n",
       "    }\n",
       "\n",
       "    .dataframe tbody tr th {\n",
       "        vertical-align: top;\n",
       "    }\n",
       "\n",
       "    .dataframe thead th {\n",
       "        text-align: right;\n",
       "    }\n",
       "</style>\n",
       "<table border=\"1\" class=\"dataframe\">\n",
       "  <thead>\n",
       "    <tr style=\"text-align: right;\">\n",
       "      <th></th>\n",
       "      <th>lesion_id</th>\n",
       "      <th>image_id</th>\n",
       "      <th>dx</th>\n",
       "      <th>dx_type</th>\n",
       "      <th>age</th>\n",
       "      <th>sex</th>\n",
       "      <th>localization</th>\n",
       "    </tr>\n",
       "  </thead>\n",
       "  <tbody>\n",
       "    <tr>\n",
       "      <td>2834</td>\n",
       "      <td>HAM_0006828</td>\n",
       "      <td>ISIC_0031977</td>\n",
       "      <td>3.0</td>\n",
       "      <td>0.0</td>\n",
       "      <td>1.000000</td>\n",
       "      <td>0.0</td>\n",
       "      <td>0.00</td>\n",
       "    </tr>\n",
       "    <tr>\n",
       "      <td>5719</td>\n",
       "      <td>HAM_0003246</td>\n",
       "      <td>ISIC_0029049</td>\n",
       "      <td>1.0</td>\n",
       "      <td>0.0</td>\n",
       "      <td>0.000000</td>\n",
       "      <td>0.0</td>\n",
       "      <td>0.63</td>\n",
       "    </tr>\n",
       "    <tr>\n",
       "      <td>1815</td>\n",
       "      <td>HAM_0005663</td>\n",
       "      <td>ISIC_0028735</td>\n",
       "      <td>2.0</td>\n",
       "      <td>0.6</td>\n",
       "      <td>0.352941</td>\n",
       "      <td>0.0</td>\n",
       "      <td>0.14</td>\n",
       "    </tr>\n",
       "    <tr>\n",
       "      <td>5144</td>\n",
       "      <td>HAM_0002581</td>\n",
       "      <td>ISIC_0026544</td>\n",
       "      <td>1.0</td>\n",
       "      <td>0.0</td>\n",
       "      <td>0.470588</td>\n",
       "      <td>0.0</td>\n",
       "      <td>0.00</td>\n",
       "    </tr>\n",
       "    <tr>\n",
       "      <td>1</td>\n",
       "      <td>HAM_0000005</td>\n",
       "      <td>ISIC_0030591</td>\n",
       "      <td>6.0</td>\n",
       "      <td>0.0</td>\n",
       "      <td>0.882353</td>\n",
       "      <td>1.0</td>\n",
       "      <td>0.14</td>\n",
       "    </tr>\n",
       "    <tr>\n",
       "      <td>3213</td>\n",
       "      <td>HAM_0000412</td>\n",
       "      <td>ISIC_0032706</td>\n",
       "      <td>1.0</td>\n",
       "      <td>0.6</td>\n",
       "      <td>0.823529</td>\n",
       "      <td>0.0</td>\n",
       "      <td>0.21</td>\n",
       "    </tr>\n",
       "    <tr>\n",
       "      <td>7264</td>\n",
       "      <td>HAM_0005016</td>\n",
       "      <td>ISIC_0027045</td>\n",
       "      <td>1.0</td>\n",
       "      <td>0.0</td>\n",
       "      <td>0.705882</td>\n",
       "      <td>0.0</td>\n",
       "      <td>0.00</td>\n",
       "    </tr>\n",
       "    <tr>\n",
       "      <td>535</td>\n",
       "      <td>HAM_0003690</td>\n",
       "      <td>ISIC_0034155</td>\n",
       "      <td>5.0</td>\n",
       "      <td>0.0</td>\n",
       "      <td>0.529412</td>\n",
       "      <td>1.0</td>\n",
       "      <td>0.56</td>\n",
       "    </tr>\n",
       "    <tr>\n",
       "      <td>8093</td>\n",
       "      <td>HAM_0006007</td>\n",
       "      <td>ISIC_0031737</td>\n",
       "      <td>1.0</td>\n",
       "      <td>0.3</td>\n",
       "      <td>0.529412</td>\n",
       "      <td>1.0</td>\n",
       "      <td>0.21</td>\n",
       "    </tr>\n",
       "    <tr>\n",
       "      <td>3368</td>\n",
       "      <td>HAM_0000589</td>\n",
       "      <td>ISIC_0027103</td>\n",
       "      <td>1.0</td>\n",
       "      <td>0.0</td>\n",
       "      <td>0.176471</td>\n",
       "      <td>1.0</td>\n",
       "      <td>0.84</td>\n",
       "    </tr>\n",
       "  </tbody>\n",
       "</table>\n",
       "</div>"
      ],
      "text/plain": [
       "        lesion_id      image_id   dx  dx_type       age  sex  localization\n",
       "2834  HAM_0006828  ISIC_0031977  3.0      0.0  1.000000  0.0          0.00\n",
       "5719  HAM_0003246  ISIC_0029049  1.0      0.0  0.000000  0.0          0.63\n",
       "1815  HAM_0005663  ISIC_0028735  2.0      0.6  0.352941  0.0          0.14\n",
       "5144  HAM_0002581  ISIC_0026544  1.0      0.0  0.470588  0.0          0.00\n",
       "1     HAM_0000005  ISIC_0030591  6.0      0.0  0.882353  1.0          0.14\n",
       "3213  HAM_0000412  ISIC_0032706  1.0      0.6  0.823529  0.0          0.21\n",
       "7264  HAM_0005016  ISIC_0027045  1.0      0.0  0.705882  0.0          0.00\n",
       "535   HAM_0003690  ISIC_0034155  5.0      0.0  0.529412  1.0          0.56\n",
       "8093  HAM_0006007  ISIC_0031737  1.0      0.3  0.529412  1.0          0.21\n",
       "3368  HAM_0000589  ISIC_0027103  1.0      0.0  0.176471  1.0          0.84"
      ]
     },
     "metadata": {},
     "output_type": "display_data"
    }
   ],
   "source": [
    "display(csv_train.head(10))"
   ]
  },
  {
   "cell_type": "code",
   "execution_count": 11,
   "metadata": {},
   "outputs": [],
   "source": [
    "# Set your X and Y train and test data up in Pandas - Example \n",
    "\n",
    "X_train_data = csv_train.drop(['dx_type','lesion_id', 'image_id', 'dx'],axis=1)\n",
    "Y_train_data = csv_train['dx']\n",
    "\n",
    "X_test_data = csv_test.drop(['dx_type','lesion_id', 'image_id', 'dx'],axis=1)\n",
    "Y_test_data = csv_test['dx']\n"
   ]
  },
  {
   "cell_type": "code",
   "execution_count": 12,
   "metadata": {},
   "outputs": [
    {
     "data": {
      "text/plain": [
       "pandas.core.frame.DataFrame"
      ]
     },
     "execution_count": 12,
     "metadata": {},
     "output_type": "execute_result"
    }
   ],
   "source": [
    "type(X_train_data)"
   ]
  },
  {
   "cell_type": "code",
   "execution_count": 13,
   "metadata": {},
   "outputs": [],
   "source": [
    "# Define where you are reading images from, here the column of the CSV file\n",
    "# with the name of the image (randomised and in the same order as above)\n",
    "\n",
    "X_train_img = csv_train['image_id']\n",
    "\n",
    "X_test_img = csv_test['image_id']"
   ]
  },
  {
   "cell_type": "code",
   "execution_count": 14,
   "metadata": {},
   "outputs": [],
   "source": [
    "img_folder = './datasets/skin-cancer-mnist-ham10000/HAM10000_images_s/'"
   ]
  },
  {
   "cell_type": "code",
   "execution_count": 15,
   "metadata": {},
   "outputs": [],
   "source": [
    "# Re-shape and pre-process train images using OpenCV\n",
    "\n",
    "X_train = []\n",
    "for image_get in X_train_img:\n",
    "    img_train = cv2.imread(img_folder + '{}.jpg'.format(image_get))\n",
    "    \n",
    "    img_train = cv2.resize(img_train,(100,75))\n",
    "    \n",
    "    # img_train = img_train[0:224,38:262] # What does this do???\n",
    "\n",
    "    R,G,B = cv2.split(img_train)\n",
    "    R_new = cv2.equalizeHist(R)\n",
    "    G_new = cv2.equalizeHist(G)\n",
    "    B_new = cv2.equalizeHist(B)\n",
    "\n",
    "    img_train = cv2.merge([R_new,G_new,B_new])\n",
    "    img_train = cv2.GaussianBlur(img_train,(5,5),0)\n",
    "    \n",
    "    X_train.append(img_train)"
   ]
  },
  {
   "cell_type": "code",
   "execution_count": 16,
   "metadata": {},
   "outputs": [
    {
     "data": {
      "text/plain": [
       "[array([[[166, 231, 225],\n",
       "         [176, 236, 230],\n",
       "         [197, 244, 237],\n",
       "         ...,\n",
       "         [238, 232, 215],\n",
       "         [225, 221, 221],\n",
       "         [216, 213, 220]],\n",
       " \n",
       "        [[168, 234, 228],\n",
       "         [177, 237, 232],\n",
       "         [196, 245, 236],\n",
       "         ...,\n",
       "         [237, 232, 219],\n",
       "         [223, 219, 222],\n",
       "         [214, 210, 219]],\n",
       " \n",
       "        [[170, 238, 234],\n",
       "         [178, 241, 236],\n",
       "         [194, 246, 235],\n",
       "         ...,\n",
       "         [234, 232, 227],\n",
       "         [218, 215, 225],\n",
       "         [209, 204, 221]],\n",
       " \n",
       "        ...,\n",
       " \n",
       "        [[200, 196, 171],\n",
       "         [198, 202, 171],\n",
       "         [194, 213, 172],\n",
       "         ...,\n",
       "         [120, 145, 184],\n",
       "         [119, 144, 183],\n",
       "         [119, 143, 184]],\n",
       " \n",
       "        [[201, 183, 166],\n",
       "         [200, 192, 168],\n",
       "         [198, 210, 173],\n",
       "         ...,\n",
       "         [112, 130, 165],\n",
       "         [109, 127, 163],\n",
       "         [108, 127, 165]],\n",
       " \n",
       "        [[201, 175, 159],\n",
       "         [201, 186, 163],\n",
       "         [200, 208, 171],\n",
       "         ...,\n",
       "         [110, 125, 158],\n",
       "         [106, 122, 157],\n",
       "         [105, 122, 161]]], dtype=uint8)]"
      ]
     },
     "execution_count": 16,
     "metadata": {},
     "output_type": "execute_result"
    }
   ],
   "source": [
    "X_train[0:1]"
   ]
  },
  {
   "cell_type": "code",
   "execution_count": 17,
   "metadata": {},
   "outputs": [],
   "source": [
    "# Convert to Numpy array\n",
    "X_train = np.array(X_train)"
   ]
  },
  {
   "cell_type": "code",
   "execution_count": 18,
   "metadata": {},
   "outputs": [
    {
     "data": {
      "text/plain": [
       "array([[[[166, 231, 225],\n",
       "         [176, 236, 230],\n",
       "         [197, 244, 237],\n",
       "         ...,\n",
       "         [238, 232, 215],\n",
       "         [225, 221, 221],\n",
       "         [216, 213, 220]],\n",
       "\n",
       "        [[168, 234, 228],\n",
       "         [177, 237, 232],\n",
       "         [196, 245, 236],\n",
       "         ...,\n",
       "         [237, 232, 219],\n",
       "         [223, 219, 222],\n",
       "         [214, 210, 219]],\n",
       "\n",
       "        [[170, 238, 234],\n",
       "         [178, 241, 236],\n",
       "         [194, 246, 235],\n",
       "         ...,\n",
       "         [234, 232, 227],\n",
       "         [218, 215, 225],\n",
       "         [209, 204, 221]],\n",
       "\n",
       "        ...,\n",
       "\n",
       "        [[200, 196, 171],\n",
       "         [198, 202, 171],\n",
       "         [194, 213, 172],\n",
       "         ...,\n",
       "         [120, 145, 184],\n",
       "         [119, 144, 183],\n",
       "         [119, 143, 184]],\n",
       "\n",
       "        [[201, 183, 166],\n",
       "         [200, 192, 168],\n",
       "         [198, 210, 173],\n",
       "         ...,\n",
       "         [112, 130, 165],\n",
       "         [109, 127, 163],\n",
       "         [108, 127, 165]],\n",
       "\n",
       "        [[201, 175, 159],\n",
       "         [201, 186, 163],\n",
       "         [200, 208, 171],\n",
       "         ...,\n",
       "         [110, 125, 158],\n",
       "         [106, 122, 157],\n",
       "         [105, 122, 161]]]], dtype=uint8)"
      ]
     },
     "execution_count": 18,
     "metadata": {},
     "output_type": "execute_result"
    }
   ],
   "source": [
    "X_train[0:1]"
   ]
  },
  {
   "cell_type": "code",
   "execution_count": 19,
   "metadata": {},
   "outputs": [],
   "source": [
    "X_test = []\n",
    "for image_get in X_test_img:\n",
    "    img_test = cv2.imread(img_folder + '{}.jpg'.format(image_get))\n",
    "    \n",
    "    img_test = cv2.resize(img_test,(100,75))\n",
    "    #img_test = img_test[0:224  ,  38:262]\n",
    "    \n",
    "    R,G,B = cv2.split(img_test)\n",
    "    R_new = cv2.equalizeHist(R)\n",
    "    G_new = cv2.equalizeHist(G)\n",
    "    B_new = cv2.equalizeHist(B)\n",
    "    \n",
    "    img_test = cv2.merge([R_new,G_new,B_new])\n",
    "    img_test = cv2.GaussianBlur(img_test,(5,5),0)\n",
    "  \n",
    "    X_test.append(img_test)"
   ]
  },
  {
   "cell_type": "code",
   "execution_count": 20,
   "metadata": {},
   "outputs": [],
   "source": [
    "X_test = np.array(X_test)"
   ]
  },
  {
   "cell_type": "code",
   "execution_count": 21,
   "metadata": {},
   "outputs": [],
   "source": [
    "# Convert to numpy array data to float32\n",
    "X_train = X_train.astype(np.float32)\n",
    "\n",
    "X_test = X_test.astype(np.float32)"
   ]
  },
  {
   "cell_type": "code",
   "execution_count": 22,
   "metadata": {},
   "outputs": [
    {
     "data": {
      "text/plain": [
       "array([[[[166., 231., 225.],\n",
       "         [176., 236., 230.],\n",
       "         [197., 244., 237.],\n",
       "         ...,\n",
       "         [238., 232., 215.],\n",
       "         [225., 221., 221.],\n",
       "         [216., 213., 220.]],\n",
       "\n",
       "        [[168., 234., 228.],\n",
       "         [177., 237., 232.],\n",
       "         [196., 245., 236.],\n",
       "         ...,\n",
       "         [237., 232., 219.],\n",
       "         [223., 219., 222.],\n",
       "         [214., 210., 219.]],\n",
       "\n",
       "        [[170., 238., 234.],\n",
       "         [178., 241., 236.],\n",
       "         [194., 246., 235.],\n",
       "         ...,\n",
       "         [234., 232., 227.],\n",
       "         [218., 215., 225.],\n",
       "         [209., 204., 221.]],\n",
       "\n",
       "        ...,\n",
       "\n",
       "        [[200., 196., 171.],\n",
       "         [198., 202., 171.],\n",
       "         [194., 213., 172.],\n",
       "         ...,\n",
       "         [120., 145., 184.],\n",
       "         [119., 144., 183.],\n",
       "         [119., 143., 184.]],\n",
       "\n",
       "        [[201., 183., 166.],\n",
       "         [200., 192., 168.],\n",
       "         [198., 210., 173.],\n",
       "         ...,\n",
       "         [112., 130., 165.],\n",
       "         [109., 127., 163.],\n",
       "         [108., 127., 165.]],\n",
       "\n",
       "        [[201., 175., 159.],\n",
       "         [201., 186., 163.],\n",
       "         [200., 208., 171.],\n",
       "         ...,\n",
       "         [110., 125., 158.],\n",
       "         [106., 122., 157.],\n",
       "         [105., 122., 161.]]]], dtype=float32)"
      ]
     },
     "execution_count": 22,
     "metadata": {},
     "output_type": "execute_result"
    }
   ],
   "source": [
    "X_train[0:1]"
   ]
  },
  {
   "cell_type": "code",
   "execution_count": 23,
   "metadata": {},
   "outputs": [],
   "source": [
    "# Reduce to float between 0 and 1 (256 per channel)\n",
    "X_train /=255\n",
    "\n",
    "X_test /=255"
   ]
  },
  {
   "cell_type": "code",
   "execution_count": 24,
   "metadata": {},
   "outputs": [
    {
     "data": {
      "text/plain": [
       "array([[[[0.6509804 , 0.90588236, 0.88235295],\n",
       "         [0.6901961 , 0.9254902 , 0.9019608 ],\n",
       "         [0.77254903, 0.95686275, 0.92941177],\n",
       "         ...,\n",
       "         [0.93333334, 0.9098039 , 0.84313726],\n",
       "         [0.88235295, 0.8666667 , 0.8666667 ],\n",
       "         [0.84705883, 0.8352941 , 0.8627451 ]],\n",
       "\n",
       "        [[0.65882355, 0.91764706, 0.89411765],\n",
       "         [0.69411767, 0.92941177, 0.9098039 ],\n",
       "         [0.76862746, 0.9607843 , 0.9254902 ],\n",
       "         ...,\n",
       "         [0.92941177, 0.9098039 , 0.85882354],\n",
       "         [0.8745098 , 0.85882354, 0.87058824],\n",
       "         [0.8392157 , 0.8235294 , 0.85882354]],\n",
       "\n",
       "        [[0.6666667 , 0.93333334, 0.91764706],\n",
       "         [0.69803923, 0.94509804, 0.9254902 ],\n",
       "         [0.7607843 , 0.9647059 , 0.92156863],\n",
       "         ...,\n",
       "         [0.91764706, 0.9098039 , 0.8901961 ],\n",
       "         [0.85490197, 0.84313726, 0.88235295],\n",
       "         [0.81960785, 0.8       , 0.8666667 ]],\n",
       "\n",
       "        ...,\n",
       "\n",
       "        [[0.78431374, 0.76862746, 0.67058825],\n",
       "         [0.7764706 , 0.7921569 , 0.67058825],\n",
       "         [0.7607843 , 0.8352941 , 0.6745098 ],\n",
       "         ...,\n",
       "         [0.47058824, 0.5686275 , 0.72156864],\n",
       "         [0.46666667, 0.5647059 , 0.7176471 ],\n",
       "         [0.46666667, 0.56078434, 0.72156864]],\n",
       "\n",
       "        [[0.7882353 , 0.7176471 , 0.6509804 ],\n",
       "         [0.78431374, 0.7529412 , 0.65882355],\n",
       "         [0.7764706 , 0.8235294 , 0.6784314 ],\n",
       "         ...,\n",
       "         [0.4392157 , 0.50980395, 0.64705884],\n",
       "         [0.42745098, 0.49803922, 0.6392157 ],\n",
       "         [0.42352942, 0.49803922, 0.64705884]],\n",
       "\n",
       "        [[0.7882353 , 0.6862745 , 0.62352943],\n",
       "         [0.7882353 , 0.7294118 , 0.6392157 ],\n",
       "         [0.78431374, 0.8156863 , 0.67058825],\n",
       "         ...,\n",
       "         [0.43137255, 0.49019608, 0.61960787],\n",
       "         [0.41568628, 0.47843137, 0.6156863 ],\n",
       "         [0.4117647 , 0.47843137, 0.6313726 ]]]], dtype=float32)"
      ]
     },
     "execution_count": 24,
     "metadata": {},
     "output_type": "execute_result"
    }
   ],
   "source": [
    "X_train[0:1]"
   ]
  },
  {
   "cell_type": "code",
   "execution_count": 25,
   "metadata": {},
   "outputs": [
    {
     "name": "stdout",
     "output_type": "stream",
     "text": [
      "(9932, 75, 100, 3) (1002, 75, 100, 3)\n"
     ]
    }
   ],
   "source": [
    "print(X_train.shape, X_test.shape)"
   ]
  },
  {
   "cell_type": "code",
   "execution_count": 26,
   "metadata": {},
   "outputs": [],
   "source": [
    "X_train_image = X_train\n",
    "X_test_image = X_test"
   ]
  },
  {
   "cell_type": "markdown",
   "metadata": {},
   "source": [
    "Now to process the text data from the CSV file"
   ]
  },
  {
   "cell_type": "code",
   "execution_count": 27,
   "metadata": {},
   "outputs": [
    {
     "data": {
      "text/html": [
       "<div>\n",
       "<style scoped>\n",
       "    .dataframe tbody tr th:only-of-type {\n",
       "        vertical-align: middle;\n",
       "    }\n",
       "\n",
       "    .dataframe tbody tr th {\n",
       "        vertical-align: top;\n",
       "    }\n",
       "\n",
       "    .dataframe thead th {\n",
       "        text-align: right;\n",
       "    }\n",
       "</style>\n",
       "<table border=\"1\" class=\"dataframe\">\n",
       "  <thead>\n",
       "    <tr style=\"text-align: right;\">\n",
       "      <th></th>\n",
       "      <th>age</th>\n",
       "      <th>sex</th>\n",
       "      <th>localization</th>\n",
       "    </tr>\n",
       "  </thead>\n",
       "  <tbody>\n",
       "    <tr>\n",
       "      <td>2834</td>\n",
       "      <td>1.000000</td>\n",
       "      <td>0.0</td>\n",
       "      <td>0.00</td>\n",
       "    </tr>\n",
       "    <tr>\n",
       "      <td>5719</td>\n",
       "      <td>0.000000</td>\n",
       "      <td>0.0</td>\n",
       "      <td>0.63</td>\n",
       "    </tr>\n",
       "    <tr>\n",
       "      <td>1815</td>\n",
       "      <td>0.352941</td>\n",
       "      <td>0.0</td>\n",
       "      <td>0.14</td>\n",
       "    </tr>\n",
       "    <tr>\n",
       "      <td>5144</td>\n",
       "      <td>0.470588</td>\n",
       "      <td>0.0</td>\n",
       "      <td>0.00</td>\n",
       "    </tr>\n",
       "    <tr>\n",
       "      <td>1</td>\n",
       "      <td>0.882353</td>\n",
       "      <td>1.0</td>\n",
       "      <td>0.14</td>\n",
       "    </tr>\n",
       "  </tbody>\n",
       "</table>\n",
       "</div>"
      ],
      "text/plain": [
       "           age  sex  localization\n",
       "2834  1.000000  0.0          0.00\n",
       "5719  0.000000  0.0          0.63\n",
       "1815  0.352941  0.0          0.14\n",
       "5144  0.470588  0.0          0.00\n",
       "1     0.882353  1.0          0.14"
      ]
     },
     "execution_count": 27,
     "metadata": {},
     "output_type": "execute_result"
    }
   ],
   "source": [
    "X_train_data.head()"
   ]
  },
  {
   "cell_type": "code",
   "execution_count": 28,
   "metadata": {},
   "outputs": [],
   "source": [
    "# Convert training text dataframe to numpy values\n",
    "\n",
    "X_train_data = X_train_data.values\n",
    "\n",
    "X_test_data = X_test_data.values"
   ]
  },
  {
   "cell_type": "code",
   "execution_count": 29,
   "metadata": {},
   "outputs": [
    {
     "data": {
      "text/plain": [
       "numpy.ndarray"
      ]
     },
     "execution_count": 29,
     "metadata": {},
     "output_type": "execute_result"
    }
   ],
   "source": [
    "type(X_train_data)"
   ]
  },
  {
   "cell_type": "code",
   "execution_count": 30,
   "metadata": {},
   "outputs": [
    {
     "data": {
      "text/plain": [
       "(9932, 3)"
      ]
     },
     "execution_count": 30,
     "metadata": {},
     "output_type": "execute_result"
    }
   ],
   "source": [
    "X_train_data.shape"
   ]
  },
  {
   "cell_type": "code",
   "execution_count": 31,
   "metadata": {},
   "outputs": [
    {
     "data": {
      "text/plain": [
       "array([[1., 0., 0.]])"
      ]
     },
     "execution_count": 31,
     "metadata": {},
     "output_type": "execute_result"
    }
   ],
   "source": [
    "X_train_data[0:1]"
   ]
  },
  {
   "cell_type": "code",
   "execution_count": 32,
   "metadata": {},
   "outputs": [],
   "source": [
    "# Convert training text dataframe to values for numpy\n",
    "\n",
    "Y_train_data = Y_train_data.values\n",
    "\n",
    "Y_test_data = Y_test_data.values"
   ]
  },
  {
   "cell_type": "code",
   "execution_count": 33,
   "metadata": {},
   "outputs": [
    {
     "data": {
      "text/plain": [
       "array([3., 1., 2., 1., 6.])"
      ]
     },
     "execution_count": 33,
     "metadata": {},
     "output_type": "execute_result"
    }
   ],
   "source": [
    "Y_train_data[:5]"
   ]
  },
  {
   "cell_type": "code",
   "execution_count": 34,
   "metadata": {},
   "outputs": [],
   "source": [
    "Y_train_data = Y_train_data.reshape(-1,1)\n",
    "\n",
    "Y_test_data = Y_test_data.reshape(-1,1)"
   ]
  },
  {
   "cell_type": "code",
   "execution_count": 35,
   "metadata": {},
   "outputs": [
    {
     "data": {
      "text/plain": [
       "array([[3.],\n",
       "       [1.],\n",
       "       [2.],\n",
       "       [1.],\n",
       "       [6.]])"
      ]
     },
     "execution_count": 35,
     "metadata": {},
     "output_type": "execute_result"
    }
   ],
   "source": [
    "Y_train_data[:5]"
   ]
  },
  {
   "cell_type": "code",
   "execution_count": 36,
   "metadata": {},
   "outputs": [],
   "source": [
    "# One hot encode the classifications in the Y data\n",
    "encoder_train = OneHotEncoder(sparse=False, categories='auto')\n",
    "Y_train_data = encoder_train.fit_transform(Y_train_data)\n",
    "\n",
    "encoder_test = OneHotEncoder(sparse=False, categories='auto')\n",
    "Y_test_data = encoder_test.fit_transform(Y_test_data)"
   ]
  },
  {
   "cell_type": "code",
   "execution_count": 37,
   "metadata": {},
   "outputs": [
    {
     "data": {
      "text/plain": [
       "array([[0., 0., 0., 1., 0., 0., 0.],\n",
       "       [0., 1., 0., 0., 0., 0., 0.],\n",
       "       [0., 0., 1., 0., 0., 0., 0.],\n",
       "       [0., 1., 0., 0., 0., 0., 0.],\n",
       "       [0., 0., 0., 0., 0., 0., 1.]])"
      ]
     },
     "execution_count": 37,
     "metadata": {},
     "output_type": "execute_result"
    }
   ],
   "source": [
    "Y_train_data[:5]"
   ]
  },
  {
   "cell_type": "code",
   "execution_count": null,
   "metadata": {},
   "outputs": [],
   "source": []
  },
  {
   "cell_type": "markdown",
   "metadata": {},
   "source": [
    "### Train the tabular data to the optimum model on its own, getting the ANN sizing, optimization model and learning rate at an optimum level, and save the weights."
   ]
  },
  {
   "cell_type": "code",
   "execution_count": 38,
   "metadata": {},
   "outputs": [],
   "source": [
    "# Set filepath to save weights for text data into\n",
    "\n",
    "text_weights_filepath = 'TF Keras Concat Weights Text.hdf5'"
   ]
  },
  {
   "cell_type": "code",
   "execution_count": 39,
   "metadata": {},
   "outputs": [],
   "source": [
    "# Set up checkpoint to record best weights\n",
    "\n",
    "checkpoint = ModelCheckpoint(text_weights_filepath, monitor='val_acc',\n",
    "                            verbose=1, save_best_only=True)\n",
    "callbacks_list = [checkpoint]"
   ]
  },
  {
   "cell_type": "code",
   "execution_count": 40,
   "metadata": {},
   "outputs": [
    {
     "data": {
      "text/plain": [
       "(9932, 3)"
      ]
     },
     "execution_count": 40,
     "metadata": {},
     "output_type": "execute_result"
    }
   ],
   "source": [
    "X_train_data.shape"
   ]
  },
  {
   "cell_type": "code",
   "execution_count": 41,
   "metadata": {},
   "outputs": [
    {
     "data": {
      "text/plain": [
       "(9932, 7)"
      ]
     },
     "execution_count": 41,
     "metadata": {},
     "output_type": "execute_result"
    }
   ],
   "source": [
    "Y_train_data.shape"
   ]
  },
  {
   "cell_type": "code",
   "execution_count": 42,
   "metadata": {},
   "outputs": [],
   "source": [
    "# Define ANN Model for text data using API\n",
    "\n",
    "text_inputs = keras.Input(shape=(3,))\n",
    "\n",
    "x_text = keras.layers.Dense(60, activation = 'relu')(text_inputs)\n",
    "x_text = keras.layers.Dropout(0.2)(x_text)\n",
    "x_text = keras.layers.Flatten()(x_text)\n",
    "\n",
    "x_text = keras.layers.Dense(480, activation = 'relu')(x_text)\n",
    "x_text = keras.layers.Dropout(0.3)(x_text)\n",
    "x_text = keras.layers.Flatten()(x_text)\n",
    "\n",
    "x_text = keras.layers.Dense(240, activation = 'relu')(x_text)\n",
    "x_text = keras.layers.Dropout(0.2)(x_text)\n",
    "x_text = keras.layers.Flatten()(x_text)\n",
    "\n",
    "x_text_output = keras.layers.Dense(7, activation='softmax')(x_text)\n",
    "\n",
    "text_model = keras.models.Model(text_inputs, x_text_output)"
   ]
  },
  {
   "cell_type": "code",
   "execution_count": 43,
   "metadata": {},
   "outputs": [
    {
     "name": "stdout",
     "output_type": "stream",
     "text": [
      "Model: \"model\"\n",
      "_________________________________________________________________\n",
      "Layer (type)                 Output Shape              Param #   \n",
      "=================================================================\n",
      "input_1 (InputLayer)         [(None, 3)]               0         \n",
      "_________________________________________________________________\n",
      "dense (Dense)                (None, 60)                240       \n",
      "_________________________________________________________________\n",
      "dropout (Dropout)            (None, 60)                0         \n",
      "_________________________________________________________________\n",
      "flatten (Flatten)            (None, 60)                0         \n",
      "_________________________________________________________________\n",
      "dense_1 (Dense)              (None, 480)               29280     \n",
      "_________________________________________________________________\n",
      "dropout_1 (Dropout)          (None, 480)               0         \n",
      "_________________________________________________________________\n",
      "flatten_1 (Flatten)          (None, 480)               0         \n",
      "_________________________________________________________________\n",
      "dense_2 (Dense)              (None, 240)               115440    \n",
      "_________________________________________________________________\n",
      "dropout_2 (Dropout)          (None, 240)               0         \n",
      "_________________________________________________________________\n",
      "flatten_2 (Flatten)          (None, 240)               0         \n",
      "_________________________________________________________________\n",
      "dense_3 (Dense)              (None, 7)                 1687      \n",
      "=================================================================\n",
      "Total params: 146,647\n",
      "Trainable params: 146,647\n",
      "Non-trainable params: 0\n",
      "_________________________________________________________________\n"
     ]
    }
   ],
   "source": [
    "text_model.summary()"
   ]
  },
  {
   "cell_type": "code",
   "execution_count": 44,
   "metadata": {},
   "outputs": [],
   "source": [
    "# Compile the model with parameters\n",
    "\n",
    "text_model.compile(optimizer=Adam(lr=0.0001), loss='categorical_crossentropy', metrics=['acc'])"
   ]
  },
  {
   "cell_type": "code",
   "execution_count": 45,
   "metadata": {},
   "outputs": [
    {
     "name": "stdout",
     "output_type": "stream",
     "text": [
      "Train on 9932 samples, validate on 1002 samples\n",
      "Epoch 1/25\n",
      "9088/9932 [==========================>...] - ETA: 0s - loss: 1.7054 - acc: 0.5511\n",
      "Epoch 00001: val_acc improved from -inf to 0.66866, saving model to TF Keras Concat Weights Text.hdf5\n",
      "9932/9932 [==============================] - 1s 96us/sample - loss: 1.6850 - acc: 0.5557 - val_loss: 1.3295 - val_acc: 0.6687\n",
      "Epoch 2/25\n",
      "9472/9932 [===========================>..] - ETA: 0s - loss: 1.4243 - acc: 0.6054\n",
      "Epoch 00002: val_acc did not improve from 0.66866\n",
      "9932/9932 [==============================] - 0s 24us/sample - loss: 1.4283 - acc: 0.6031 - val_loss: 1.2404 - val_acc: 0.6687\n",
      "Epoch 3/25\n",
      "8960/9932 [==========================>...] - ETA: 0s - loss: 1.4009 - acc: 0.6050\n",
      "Epoch 00003: val_acc did not improve from 0.66866\n",
      "9932/9932 [==============================] - 0s 25us/sample - loss: 1.4014 - acc: 0.6031 - val_loss: 1.2179 - val_acc: 0.6687\n",
      "Epoch 4/25\n",
      "8704/9932 [=========================>....] - ETA: 0s - loss: 1.3746 - acc: 0.6057\n",
      "Epoch 00004: val_acc did not improve from 0.66866\n",
      "9932/9932 [==============================] - 0s 26us/sample - loss: 1.3800 - acc: 0.6031 - val_loss: 1.1886 - val_acc: 0.6687\n",
      "Epoch 5/25\n",
      "8320/9932 [========================>.....] - ETA: 0s - loss: 1.3581 - acc: 0.6043\n",
      "Epoch 00005: val_acc did not improve from 0.66866\n",
      "9932/9932 [==============================] - 0s 27us/sample - loss: 1.3577 - acc: 0.6031 - val_loss: 1.1674 - val_acc: 0.6687\n",
      "Epoch 6/25\n",
      "8832/9932 [=========================>....] - ETA: 0s - loss: 1.3381 - acc: 0.6016\n",
      "Epoch 00006: val_acc did not improve from 0.66866\n",
      "9932/9932 [==============================] - 0s 26us/sample - loss: 1.3330 - acc: 0.6031 - val_loss: 1.1304 - val_acc: 0.6687\n",
      "Epoch 7/25\n",
      "8704/9932 [=========================>....] - ETA: 0s - loss: 1.3210 - acc: 0.5998\n",
      "Epoch 00007: val_acc did not improve from 0.66866\n",
      "9932/9932 [==============================] - 0s 26us/sample - loss: 1.3152 - acc: 0.6032 - val_loss: 1.1071 - val_acc: 0.6687\n",
      "Epoch 8/25\n",
      "8832/9932 [=========================>....] - ETA: 0s - loss: 1.3003 - acc: 0.6027\n",
      "Epoch 00008: val_acc improved from 0.66866 to 0.67166, saving model to TF Keras Concat Weights Text.hdf5\n",
      "9932/9932 [==============================] - 0s 28us/sample - loss: 1.2971 - acc: 0.6040 - val_loss: 1.0904 - val_acc: 0.6717\n",
      "Epoch 9/25\n",
      "8832/9932 [=========================>....] - ETA: 0s - loss: 1.2854 - acc: 0.6028\n",
      "Epoch 00009: val_acc improved from 0.67166 to 0.67265, saving model to TF Keras Concat Weights Text.hdf5\n",
      "9932/9932 [==============================] - 0s 28us/sample - loss: 1.2828 - acc: 0.6039 - val_loss: 1.0754 - val_acc: 0.6727\n",
      "Epoch 10/25\n",
      "9728/9932 [============================>.] - ETA: 0s - loss: 1.2747 - acc: 0.6041\n",
      "Epoch 00010: val_acc did not improve from 0.67265\n",
      "9932/9932 [==============================] - 0s 23us/sample - loss: 1.2745 - acc: 0.6041 - val_loss: 1.0644 - val_acc: 0.6707\n",
      "Epoch 11/25\n",
      "7680/9932 [======================>.......] - ETA: 0s - loss: 1.2556 - acc: 0.6091\n",
      "Epoch 00011: val_acc improved from 0.67265 to 0.67465, saving model to TF Keras Concat Weights Text.hdf5\n",
      "9932/9932 [==============================] - 0s 24us/sample - loss: 1.2666 - acc: 0.6058 - val_loss: 1.0607 - val_acc: 0.6747\n",
      "Epoch 12/25\n",
      "7936/9932 [======================>.......] - ETA: 0s - loss: 1.2647 - acc: 0.6038\n",
      "Epoch 00012: val_acc did not improve from 0.67465\n",
      "9932/9932 [==============================] - 0s 21us/sample - loss: 1.2625 - acc: 0.6045 - val_loss: 1.0525 - val_acc: 0.6747\n",
      "Epoch 13/25\n",
      "7552/9932 [=====================>........] - ETA: 0s - loss: 1.2478 - acc: 0.6092\n",
      "Epoch 00013: val_acc did not improve from 0.67465\n",
      "9932/9932 [==============================] - 0s 23us/sample - loss: 1.2562 - acc: 0.6062 - val_loss: 1.0503 - val_acc: 0.6737\n",
      "Epoch 14/25\n",
      "7552/9932 [=====================>........] - ETA: 0s - loss: 1.2532 - acc: 0.6057\n",
      "Epoch 00014: val_acc did not improve from 0.67465\n",
      "9932/9932 [==============================] - 0s 22us/sample - loss: 1.2546 - acc: 0.6050 - val_loss: 1.0409 - val_acc: 0.6747\n",
      "Epoch 15/25\n",
      "7936/9932 [======================>.......] - ETA: 0s - loss: 1.2455 - acc: 0.6099\n",
      "Epoch 00015: val_acc did not improve from 0.67465\n",
      "9932/9932 [==============================] - 0s 21us/sample - loss: 1.2521 - acc: 0.6061 - val_loss: 1.0409 - val_acc: 0.6747\n",
      "Epoch 16/25\n",
      "9856/9932 [============================>.] - ETA: 0s - loss: 1.2487 - acc: 0.6054\n",
      "Epoch 00016: val_acc did not improve from 0.67465\n",
      "9932/9932 [==============================] - 0s 23us/sample - loss: 1.2485 - acc: 0.6056 - val_loss: 1.0367 - val_acc: 0.6737\n",
      "Epoch 17/25\n",
      "7552/9932 [=====================>........] - ETA: 0s - loss: 1.2427 - acc: 0.6063\n",
      "Epoch 00017: val_acc improved from 0.67465 to 0.67565, saving model to TF Keras Concat Weights Text.hdf5\n",
      "9932/9932 [==============================] - 0s 25us/sample - loss: 1.2461 - acc: 0.6067 - val_loss: 1.0361 - val_acc: 0.6756\n",
      "Epoch 18/25\n",
      "9344/9932 [===========================>..] - ETA: 0s - loss: 1.2468 - acc: 0.6038\n",
      "Epoch 00018: val_acc did not improve from 0.67565\n",
      "9932/9932 [==============================] - 0s 24us/sample - loss: 1.2419 - acc: 0.6055 - val_loss: 1.0337 - val_acc: 0.6737\n",
      "Epoch 19/25\n",
      "9856/9932 [============================>.] - ETA: 0s - loss: 1.2412 - acc: 0.6078\n",
      "Epoch 00019: val_acc did not improve from 0.67565\n",
      "9932/9932 [==============================] - 0s 23us/sample - loss: 1.2412 - acc: 0.6077 - val_loss: 1.0348 - val_acc: 0.6737\n",
      "Epoch 20/25\n",
      "7552/9932 [=====================>........] - ETA: 0s - loss: 1.2382 - acc: 0.6075\n",
      "Epoch 00020: val_acc did not improve from 0.67565\n",
      "9932/9932 [==============================] - 0s 23us/sample - loss: 1.2403 - acc: 0.6057 - val_loss: 1.0299 - val_acc: 0.6737\n",
      "Epoch 21/25\n",
      "9088/9932 [==========================>...] - ETA: 0s - loss: 1.2398 - acc: 0.6095\n",
      "Epoch 00021: val_acc did not improve from 0.67565\n",
      "9932/9932 [==============================] - 0s 25us/sample - loss: 1.2384 - acc: 0.6082 - val_loss: 1.0274 - val_acc: 0.6747\n",
      "Epoch 22/25\n",
      "9600/9932 [===========================>..] - ETA: 0s - loss: 1.2356 - acc: 0.6064\n",
      "Epoch 00022: val_acc improved from 0.67565 to 0.67665, saving model to TF Keras Concat Weights Text.hdf5\n",
      "9932/9932 [==============================] - 0s 26us/sample - loss: 1.2371 - acc: 0.6058 - val_loss: 1.0296 - val_acc: 0.6766\n",
      "Epoch 23/25\n",
      "9472/9932 [===========================>..] - ETA: 0s - loss: 1.2376 - acc: 0.6048\n",
      "Epoch 00023: val_acc did not improve from 0.67665\n",
      "9932/9932 [==============================] - 0s 24us/sample - loss: 1.2341 - acc: 0.6061 - val_loss: 1.0264 - val_acc: 0.6756\n",
      "Epoch 24/25\n",
      "7680/9932 [======================>.......] - ETA: 0s - loss: 1.2331 - acc: 0.6035\n",
      "Epoch 00024: val_acc did not improve from 0.67665\n",
      "9932/9932 [==============================] - 0s 22us/sample - loss: 1.2315 - acc: 0.6064 - val_loss: 1.0309 - val_acc: 0.6766\n",
      "Epoch 25/25\n",
      "7808/9932 [======================>.......] - ETA: 0s - loss: 1.2196 - acc: 0.6108\n",
      "Epoch 00025: val_acc did not improve from 0.67665\n",
      "9932/9932 [==============================] - 0s 22us/sample - loss: 1.2279 - acc: 0.6074 - val_loss: 1.0275 - val_acc: 0.6727\n"
     ]
    }
   ],
   "source": [
    "# Fit the text data model\n",
    "\n",
    "history = text_model.fit(X_train_data, Y_train_data, \n",
    "    epochs=25, \n",
    "    batch_size=128,\n",
    "    validation_data=(X_test_data, Y_test_data), callbacks=callbacks_list)"
   ]
  },
  {
   "cell_type": "code",
   "execution_count": 46,
   "metadata": {},
   "outputs": [],
   "source": [
    "acc = history.history['acc']\n",
    "val_acc = history.history['val_acc']\n",
    "loss = history.history['loss']\n",
    "val_loss = history.history['val_loss']\n",
    "epochs = range(len(acc))"
   ]
  },
  {
   "cell_type": "code",
   "execution_count": 47,
   "metadata": {},
   "outputs": [
    {
     "data": {
      "text/plain": [
       "[<matplotlib.lines.Line2D at 0x1a8faa2750>]"
      ]
     },
     "execution_count": 47,
     "metadata": {},
     "output_type": "execute_result"
    },
    {
     "data": {
      "image/png": "[encoded data removed]",
      "text/plain": [
       "<Figure size 432x288 with 1 Axes>"
      ]
     },
     "metadata": {
      "needs_background": "light"
     },
     "output_type": "display_data"
    }
   ],
   "source": [
    "plt.plot(epochs, acc, 'r')\n",
    "plt.plot(epochs, val_acc, 'b')"
   ]
  },
  {
   "cell_type": "code",
   "execution_count": 48,
   "metadata": {},
   "outputs": [],
   "source": [
    "predictions = text_model.predict([X_test_data, X_test])"
   ]
  },
  {
   "cell_type": "code",
   "execution_count": 49,
   "metadata": {},
   "outputs": [],
   "source": [
    "Y_test_data_decode = np.argmax(Y_test_data, axis=1)"
   ]
  },
  {
   "cell_type": "code",
   "execution_count": 50,
   "metadata": {},
   "outputs": [],
   "source": [
    "predictions_decode = np.argmax(predictions, axis=1)"
   ]
  },
  {
   "cell_type": "code",
   "execution_count": 51,
   "metadata": {},
   "outputs": [
    {
     "name": "stdout",
     "output_type": "stream",
     "text": [
      "[[ 14  97   0   0   0   0   0]\n",
      " [ 10 660   0   0   0   0   0]\n",
      " [  0  11   0   0   0   0   0]\n",
      " [ 15  97   0   0   0   0   0]\n",
      " [  2  15   0   0   0   0   0]\n",
      " [ 15  33   0   0   0   0   0]\n",
      " [  2  31   0   0   0   0   0]]\n"
     ]
    }
   ],
   "source": [
    "print(confusion_matrix(Y_test_data_decode, predictions_decode))"
   ]
  },
  {
   "cell_type": "code",
   "execution_count": 52,
   "metadata": {},
   "outputs": [
    {
     "name": "stdout",
     "output_type": "stream",
     "text": [
      "              precision    recall  f1-score   support\n",
      "\n",
      "           0       0.24      0.13      0.17       111\n",
      "           1       0.70      0.99      0.82       670\n",
      "           2       0.00      0.00      0.00        11\n",
      "           3       0.00      0.00      0.00       112\n",
      "           4       0.00      0.00      0.00        17\n",
      "           5       0.00      0.00      0.00        48\n",
      "           6       0.00      0.00      0.00        33\n",
      "\n",
      "    accuracy                           0.67      1002\n",
      "   macro avg       0.13      0.16      0.14      1002\n",
      "weighted avg       0.49      0.67      0.57      1002\n",
      "\n"
     ]
    },
    {
     "name": "stderr",
     "output_type": "stream",
     "text": [
      "/Users/philgodley/opt/anaconda3/lib/python3.7/site-packages/sklearn/metrics/classification.py:1437: UndefinedMetricWarning: Precision and F-score are ill-defined and being set to 0.0 in labels with no predicted samples.\n",
      "  'precision', 'predicted', average, warn_for)\n"
     ]
    }
   ],
   "source": [
    "print(classification_report(Y_test_data_decode, predictions_decode))"
   ]
  },
  {
   "cell_type": "code",
   "execution_count": null,
   "metadata": {},
   "outputs": [],
   "source": []
  },
  {
   "cell_type": "markdown",
   "metadata": {},
   "source": [
    "### 2. Do the same with the CNN on its own, again, saving the weights."
   ]
  },
  {
   "cell_type": "code",
   "execution_count": 53,
   "metadata": {},
   "outputs": [],
   "source": [
    "# Set filepath to save weights for text data into\n",
    "\n",
    "image_weights_filepath = 'TF Keras Concat Weights Image.hdf5'\n",
    "\n",
    "# Set up checkpoint to record best weights\n",
    "\n",
    "checkpoint = ModelCheckpoint(image_weights_filepath, monitor='val_acc',\n",
    "                            verbose=1, save_best_only=True)\n",
    "callbacks_list = [checkpoint]"
   ]
  },
  {
   "cell_type": "code",
   "execution_count": null,
   "metadata": {},
   "outputs": [],
   "source": []
  },
  {
   "cell_type": "code",
   "execution_count": 54,
   "metadata": {},
   "outputs": [
    {
     "name": "stdout",
     "output_type": "stream",
     "text": [
      "Model: \"vgg16\"\n",
      "_________________________________________________________________\n",
      "Layer (type)                 Output Shape              Param #   \n",
      "=================================================================\n",
      "input_2 (InputLayer)         [(None, 75, 100, 3)]      0         \n",
      "_________________________________________________________________\n",
      "block1_conv1 (Conv2D)        (None, 75, 100, 64)       1792      \n",
      "_________________________________________________________________\n",
      "block1_conv2 (Conv2D)        (None, 75, 100, 64)       36928     \n",
      "_________________________________________________________________\n",
      "block1_pool (MaxPooling2D)   (None, 37, 50, 64)        0         \n",
      "_________________________________________________________________\n",
      "block2_conv1 (Conv2D)        (None, 37, 50, 128)       73856     \n",
      "_________________________________________________________________\n",
      "block2_conv2 (Conv2D)        (None, 37, 50, 128)       147584    \n",
      "_________________________________________________________________\n",
      "block2_pool (MaxPooling2D)   (None, 18, 25, 128)       0         \n",
      "_________________________________________________________________\n",
      "block3_conv1 (Conv2D)        (None, 18, 25, 256)       295168    \n",
      "_________________________________________________________________\n",
      "block3_conv2 (Conv2D)        (None, 18, 25, 256)       590080    \n",
      "_________________________________________________________________\n",
      "block3_conv3 (Conv2D)        (None, 18, 25, 256)       590080    \n",
      "_________________________________________________________________\n",
      "block3_pool (MaxPooling2D)   (None, 9, 12, 256)        0         \n",
      "_________________________________________________________________\n",
      "block4_conv1 (Conv2D)        (None, 9, 12, 512)        1180160   \n",
      "_________________________________________________________________\n",
      "block4_conv2 (Conv2D)        (None, 9, 12, 512)        2359808   \n",
      "_________________________________________________________________\n",
      "block4_conv3 (Conv2D)        (None, 9, 12, 512)        2359808   \n",
      "_________________________________________________________________\n",
      "block4_pool (MaxPooling2D)   (None, 4, 6, 512)         0         \n",
      "_________________________________________________________________\n",
      "block5_conv1 (Conv2D)        (None, 4, 6, 512)         2359808   \n",
      "_________________________________________________________________\n",
      "block5_conv2 (Conv2D)        (None, 4, 6, 512)         2359808   \n",
      "_________________________________________________________________\n",
      "block5_conv3 (Conv2D)        (None, 4, 6, 512)         2359808   \n",
      "_________________________________________________________________\n",
      "block5_pool (MaxPooling2D)   (None, 2, 3, 512)         0         \n",
      "=================================================================\n",
      "Total params: 14,714,688\n",
      "Trainable params: 0\n",
      "Non-trainable params: 14,714,688\n",
      "_________________________________________________________________\n"
     ]
    }
   ],
   "source": [
    "# image_inputs = keras.Input(shape=(75,100,3))\n",
    "# CNN Model for images\n",
    "\n",
    "pre_trained_model= VGG16(input_shape=(75, 100, 3),\n",
    "                        include_top = False,\n",
    "                        weights = 'imagenet')\n",
    "\n",
    "for layer in pre_trained_model.layers[:-1]:\n",
    "    layer.trainable = False\n",
    "\n",
    "pre_trained_model.summary()"
   ]
  },
  {
   "cell_type": "code",
   "execution_count": 55,
   "metadata": {},
   "outputs": [],
   "source": [
    "# Adjust the model to requirements...\n",
    "\n",
    "outer_layer = pre_trained_model.get_layer('block5_pool')\n",
    "outer_input = outer_layer.output\n",
    "\n",
    "x_image = keras.layers.Flatten()(outer_input)\n",
    "x_image = keras.layers.Dense(1000, activation='relu')(x_image)\n",
    "x_image = keras.layers.Dense(64, activation='relu')(x_image)\n",
    "\n",
    "x_image_output = keras.layers.Dense(7, activation='softmax')(x_image)"
   ]
  },
  {
   "cell_type": "code",
   "execution_count": 56,
   "metadata": {},
   "outputs": [
    {
     "name": "stdout",
     "output_type": "stream",
     "text": [
      "Model: \"model_1\"\n",
      "_________________________________________________________________\n",
      "Layer (type)                 Output Shape              Param #   \n",
      "=================================================================\n",
      "input_2 (InputLayer)         [(None, 75, 100, 3)]      0         \n",
      "_________________________________________________________________\n",
      "block1_conv1 (Conv2D)        (None, 75, 100, 64)       1792      \n",
      "_________________________________________________________________\n",
      "block1_conv2 (Conv2D)        (None, 75, 100, 64)       36928     \n",
      "_________________________________________________________________\n",
      "block1_pool (MaxPooling2D)   (None, 37, 50, 64)        0         \n",
      "_________________________________________________________________\n",
      "block2_conv1 (Conv2D)        (None, 37, 50, 128)       73856     \n",
      "_________________________________________________________________\n",
      "block2_conv2 (Conv2D)        (None, 37, 50, 128)       147584    \n",
      "_________________________________________________________________\n",
      "block2_pool (MaxPooling2D)   (None, 18, 25, 128)       0         \n",
      "_________________________________________________________________\n",
      "block3_conv1 (Conv2D)        (None, 18, 25, 256)       295168    \n",
      "_________________________________________________________________\n",
      "block3_conv2 (Conv2D)        (None, 18, 25, 256)       590080    \n",
      "_________________________________________________________________\n",
      "block3_conv3 (Conv2D)        (None, 18, 25, 256)       590080    \n",
      "_________________________________________________________________\n",
      "block3_pool (MaxPooling2D)   (None, 9, 12, 256)        0         \n",
      "_________________________________________________________________\n",
      "block4_conv1 (Conv2D)        (None, 9, 12, 512)        1180160   \n",
      "_________________________________________________________________\n",
      "block4_conv2 (Conv2D)        (None, 9, 12, 512)        2359808   \n",
      "_________________________________________________________________\n",
      "block4_conv3 (Conv2D)        (None, 9, 12, 512)        2359808   \n",
      "_________________________________________________________________\n",
      "block4_pool (MaxPooling2D)   (None, 4, 6, 512)         0         \n",
      "_________________________________________________________________\n",
      "block5_conv1 (Conv2D)        (None, 4, 6, 512)         2359808   \n",
      "_________________________________________________________________\n",
      "block5_conv2 (Conv2D)        (None, 4, 6, 512)         2359808   \n",
      "_________________________________________________________________\n",
      "block5_conv3 (Conv2D)        (None, 4, 6, 512)         2359808   \n",
      "_________________________________________________________________\n",
      "block5_pool (MaxPooling2D)   (None, 2, 3, 512)         0         \n",
      "_________________________________________________________________\n",
      "flatten_3 (Flatten)          (None, 3072)              0         \n",
      "_________________________________________________________________\n",
      "dense_4 (Dense)              (None, 1000)              3073000   \n",
      "_________________________________________________________________\n",
      "dense_5 (Dense)              (None, 64)                64064     \n",
      "_________________________________________________________________\n",
      "dense_6 (Dense)              (None, 7)                 455       \n",
      "=================================================================\n",
      "Total params: 17,852,207\n",
      "Trainable params: 3,137,519\n",
      "Non-trainable params: 14,714,688\n",
      "_________________________________________________________________\n"
     ]
    }
   ],
   "source": [
    "image_model = keras.models.Model(pre_trained_model.input, x_image_output)\n",
    "\n",
    "image_model.summary()"
   ]
  },
  {
   "cell_type": "code",
   "execution_count": 57,
   "metadata": {},
   "outputs": [],
   "source": [
    "# Compile\n",
    "\n",
    "image_model.compile(optimizer=Adam(lr=0.0001), loss='categorical_crossentropy', metrics=['acc'])"
   ]
  },
  {
   "cell_type": "code",
   "execution_count": 80,
   "metadata": {},
   "outputs": [
    {
     "name": "stdout",
     "output_type": "stream",
     "text": [
      "Train on 9932 samples, validate on 1002 samples\n",
      "9856/9932 [============================>.] - ETA: 0s - loss: 0.9860 - acc: 0.6520\n",
      "Epoch 00001: val_acc improved from 0.70958 to 0.72056, saving model to TF Keras Concat Weights Concat.hdf5\n",
      "9932/9932 [==============================] - 135s 14ms/sample - loss: 0.9839 - acc: 0.6528 - val_loss: 0.8243 - val_acc: 0.7206\n"
     ]
    }
   ],
   "source": [
    "# Fit\n",
    "\n",
    "image_history = image_model.fit(X_train_image, Y_train_data, \n",
    "    epochs=1, \n",
    "    batch_size=128,\n",
    "    validation_data=(X_test_image, Y_test_data), callbacks=callbacks_list)"
   ]
  },
  {
   "cell_type": "code",
   "execution_count": 81,
   "metadata": {},
   "outputs": [],
   "source": [
    "acc = image_history.history['acc']\n",
    "val_acc = image_history.history['val_acc']\n",
    "loss = image_history.history['loss']\n",
    "val_loss = image_history.history['val_loss']\n",
    "epochs = range(len(acc))"
   ]
  },
  {
   "cell_type": "code",
   "execution_count": 82,
   "metadata": {},
   "outputs": [
    {
     "data": {
      "text/plain": [
       "[<matplotlib.lines.Line2D at 0x1a936a5cd0>]"
      ]
     },
     "execution_count": 82,
     "metadata": {},
     "output_type": "execute_result"
    },
    {
     "data": {
      "image/png": "[encoded data removed]",
      "text/plain": [
       "<Figure size 432x288 with 1 Axes>"
      ]
     },
     "metadata": {
      "needs_background": "light"
     },
     "output_type": "display_data"
    }
   ],
   "source": [
    "plt.plot(epochs, acc, 'r')\n",
    "plt.plot(epochs, val_acc, 'b')"
   ]
  },
  {
   "cell_type": "code",
   "execution_count": 83,
   "metadata": {},
   "outputs": [
    {
     "data": {
      "text/plain": [
       "[<matplotlib.lines.Line2D at 0x1a90ab94d0>]"
      ]
     },
     "execution_count": 83,
     "metadata": {},
     "output_type": "execute_result"
    },
    {
     "data": {
      "image/png": "[encoded data removed]",
      "text/plain": [
       "<Figure size 432x288 with 1 Axes>"
      ]
     },
     "metadata": {
      "needs_background": "light"
     },
     "output_type": "display_data"
    }
   ],
   "source": [
    "plt.plot(epochs, loss, 'r')\n",
    "plt.plot(epochs, val_loss, 'b')"
   ]
  },
  {
   "cell_type": "code",
   "execution_count": 84,
   "metadata": {},
   "outputs": [],
   "source": [
    "predictions = image_model.predict(X_test_image)"
   ]
  },
  {
   "cell_type": "code",
   "execution_count": 85,
   "metadata": {},
   "outputs": [],
   "source": [
    "Y_test_data_decode = np.argmax(Y_test_data, axis=1)"
   ]
  },
  {
   "cell_type": "code",
   "execution_count": 86,
   "metadata": {},
   "outputs": [],
   "source": [
    "predictions_decode = np.argmax(predictions, axis=1)"
   ]
  },
  {
   "cell_type": "code",
   "execution_count": 87,
   "metadata": {},
   "outputs": [
    {
     "name": "stdout",
     "output_type": "stream",
     "text": [
      "[[ 24  76   0  10   0   1   0]\n",
      " [  2 658   2   7   0   0   1]\n",
      " [  1   6   3   1   0   0   0]\n",
      " [  5  82   1  23   1   0   0]\n",
      " [  0  14   0   1   1   1   0]\n",
      " [  7  28   3   2   0   4   4]\n",
      " [  6  13   0   3   0   2   9]]\n"
     ]
    }
   ],
   "source": [
    "print(confusion_matrix(Y_test_data_decode, predictions_decode))"
   ]
  },
  {
   "cell_type": "code",
   "execution_count": 88,
   "metadata": {},
   "outputs": [
    {
     "name": "stdout",
     "output_type": "stream",
     "text": [
      "              precision    recall  f1-score   support\n",
      "\n",
      "           0       0.53      0.22      0.31       111\n",
      "           1       0.75      0.98      0.85       670\n",
      "           2       0.33      0.27      0.30        11\n",
      "           3       0.49      0.21      0.29       112\n",
      "           4       0.50      0.06      0.11        17\n",
      "           5       0.50      0.08      0.14        48\n",
      "           6       0.64      0.27      0.38        33\n",
      "\n",
      "    accuracy                           0.72      1002\n",
      "   macro avg       0.54      0.30      0.34      1002\n",
      "weighted avg       0.67      0.72      0.66      1002\n",
      "\n"
     ]
    }
   ],
   "source": [
    "print(classification_report(Y_test_data_decode, predictions_decode))"
   ]
  },
  {
   "cell_type": "markdown",
   "metadata": {},
   "source": [
    "### 3. Run the concatenated model, but this time, do not allow the tabular data nor the CNN weights to be trained. i.e. you can only update the weights on the final layer.\n"
   ]
  },
  {
   "cell_type": "code",
   "execution_count": 59,
   "metadata": {},
   "outputs": [],
   "source": [
    "# Set filepath to save weights for text data into\n",
    "\n",
    "concat_weights_filepath = 'TF Keras Concat Weights Concat.hdf5'\n",
    "\n",
    "# Set up checkpoint to record best weights\n",
    "\n",
    "checkpoint = ModelCheckpoint(concat_weights_filepath, monitor='val_acc',\n",
    "                            verbose=1, save_best_only=True)\n",
    "callbacks_list = [checkpoint]"
   ]
  },
  {
   "cell_type": "code",
   "execution_count": 60,
   "metadata": {},
   "outputs": [],
   "source": [
    "# Set up your concatenated model\n",
    "\n",
    "concatenated = keras.layers.concatenate([x_text ,x_image], axis=1)"
   ]
  },
  {
   "cell_type": "code",
   "execution_count": 61,
   "metadata": {},
   "outputs": [],
   "source": [
    "output = keras.layers.Dense(7, activation='softmax')(concatenated)"
   ]
  },
  {
   "cell_type": "code",
   "execution_count": 62,
   "metadata": {},
   "outputs": [],
   "source": [
    "# Define your model\n",
    "\n",
    "concat_model = keras.models.Model([text_model.input, image_model.input], output)"
   ]
  },
  {
   "cell_type": "code",
   "execution_count": 63,
   "metadata": {},
   "outputs": [],
   "source": [
    "for layer in concat_model.layers[:-1]:\n",
    "    layer.trainable = False"
   ]
  },
  {
   "cell_type": "code",
   "execution_count": 74,
   "metadata": {},
   "outputs": [],
   "source": [
    "concat_model.compile(optimizer=Adam(lr=0.0001), loss='categorical_crossentropy', metrics=['acc'])"
   ]
  },
  {
   "cell_type": "code",
   "execution_count": 75,
   "metadata": {},
   "outputs": [
    {
     "name": "stdout",
     "output_type": "stream",
     "text": [
      "Model: \"model_2\"\n",
      "__________________________________________________________________________________________________\n",
      "Layer (type)                    Output Shape         Param #     Connected to                     \n",
      "==================================================================================================\n",
      "input_2 (InputLayer)            [(None, 75, 100, 3)] 0                                            \n",
      "__________________________________________________________________________________________________\n",
      "block1_conv1 (Conv2D)           (None, 75, 100, 64)  1792        input_2[0][0]                    \n",
      "__________________________________________________________________________________________________\n",
      "block1_conv2 (Conv2D)           (None, 75, 100, 64)  36928       block1_conv1[0][0]               \n",
      "__________________________________________________________________________________________________\n",
      "block1_pool (MaxPooling2D)      (None, 37, 50, 64)   0           block1_conv2[0][0]               \n",
      "__________________________________________________________________________________________________\n",
      "block2_conv1 (Conv2D)           (None, 37, 50, 128)  73856       block1_pool[0][0]                \n",
      "__________________________________________________________________________________________________\n",
      "block2_conv2 (Conv2D)           (None, 37, 50, 128)  147584      block2_conv1[0][0]               \n",
      "__________________________________________________________________________________________________\n",
      "block2_pool (MaxPooling2D)      (None, 18, 25, 128)  0           block2_conv2[0][0]               \n",
      "__________________________________________________________________________________________________\n",
      "block3_conv1 (Conv2D)           (None, 18, 25, 256)  295168      block2_pool[0][0]                \n",
      "__________________________________________________________________________________________________\n",
      "block3_conv2 (Conv2D)           (None, 18, 25, 256)  590080      block3_conv1[0][0]               \n",
      "__________________________________________________________________________________________________\n",
      "block3_conv3 (Conv2D)           (None, 18, 25, 256)  590080      block3_conv2[0][0]               \n",
      "__________________________________________________________________________________________________\n",
      "block3_pool (MaxPooling2D)      (None, 9, 12, 256)   0           block3_conv3[0][0]               \n",
      "__________________________________________________________________________________________________\n",
      "block4_conv1 (Conv2D)           (None, 9, 12, 512)   1180160     block3_pool[0][0]                \n",
      "__________________________________________________________________________________________________\n",
      "input_1 (InputLayer)            [(None, 3)]          0                                            \n",
      "__________________________________________________________________________________________________\n",
      "block4_conv2 (Conv2D)           (None, 9, 12, 512)   2359808     block4_conv1[0][0]               \n",
      "__________________________________________________________________________________________________\n",
      "dense (Dense)                   (None, 60)           240         input_1[0][0]                    \n",
      "__________________________________________________________________________________________________\n",
      "block4_conv3 (Conv2D)           (None, 9, 12, 512)   2359808     block4_conv2[0][0]               \n",
      "__________________________________________________________________________________________________\n",
      "dropout (Dropout)               (None, 60)           0           dense[0][0]                      \n",
      "__________________________________________________________________________________________________\n",
      "block4_pool (MaxPooling2D)      (None, 4, 6, 512)    0           block4_conv3[0][0]               \n",
      "__________________________________________________________________________________________________\n",
      "flatten (Flatten)               (None, 60)           0           dropout[0][0]                    \n",
      "__________________________________________________________________________________________________\n",
      "block5_conv1 (Conv2D)           (None, 4, 6, 512)    2359808     block4_pool[0][0]                \n",
      "__________________________________________________________________________________________________\n",
      "dense_1 (Dense)                 (None, 480)          29280       flatten[0][0]                    \n",
      "__________________________________________________________________________________________________\n",
      "block5_conv2 (Conv2D)           (None, 4, 6, 512)    2359808     block5_conv1[0][0]               \n",
      "__________________________________________________________________________________________________\n",
      "dropout_1 (Dropout)             (None, 480)          0           dense_1[0][0]                    \n",
      "__________________________________________________________________________________________________\n",
      "block5_conv3 (Conv2D)           (None, 4, 6, 512)    2359808     block5_conv2[0][0]               \n",
      "__________________________________________________________________________________________________\n",
      "flatten_1 (Flatten)             (None, 480)          0           dropout_1[0][0]                  \n",
      "__________________________________________________________________________________________________\n",
      "block5_pool (MaxPooling2D)      (None, 2, 3, 512)    0           block5_conv3[0][0]               \n",
      "__________________________________________________________________________________________________\n",
      "dense_2 (Dense)                 (None, 240)          115440      flatten_1[0][0]                  \n",
      "__________________________________________________________________________________________________\n",
      "flatten_3 (Flatten)             (None, 3072)         0           block5_pool[0][0]                \n",
      "__________________________________________________________________________________________________\n",
      "dropout_2 (Dropout)             (None, 240)          0           dense_2[0][0]                    \n",
      "__________________________________________________________________________________________________\n",
      "dense_4 (Dense)                 (None, 1000)         3073000     flatten_3[0][0]                  \n",
      "__________________________________________________________________________________________________\n",
      "flatten_2 (Flatten)             (None, 240)          0           dropout_2[0][0]                  \n",
      "__________________________________________________________________________________________________\n",
      "dense_5 (Dense)                 (None, 64)           64064       dense_4[0][0]                    \n",
      "__________________________________________________________________________________________________\n",
      "concatenate (Concatenate)       (None, 304)          0           flatten_2[0][0]                  \n",
      "                                                                 dense_5[0][0]                    \n",
      "__________________________________________________________________________________________________\n",
      "dense_7 (Dense)                 (None, 7)            2135        concatenate[0][0]                \n",
      "==================================================================================================\n",
      "Total params: 17,998,847\n",
      "Trainable params: 2,135\n",
      "Non-trainable params: 17,996,712\n",
      "__________________________________________________________________________________________________\n"
     ]
    }
   ],
   "source": [
    "concat_model.summary()"
   ]
  },
  {
   "cell_type": "code",
   "execution_count": 76,
   "metadata": {},
   "outputs": [],
   "source": [
    "# Load weights\n",
    "# concat_model.load_weights(['TF Keras Concat Weights Text.hdf5', 'TF Keras Concat Weights Image.hdf5'], by_name=True)"
   ]
  },
  {
   "cell_type": "code",
   "execution_count": 77,
   "metadata": {
    "scrolled": false
   },
   "outputs": [
    {
     "name": "stdout",
     "output_type": "stream",
     "text": [
      "Train on 9932 samples, validate on 1002 samples\n",
      "Epoch 1/10\n",
      "9856/9932 [============================>.] - ETA: 0s - loss: 1.0820 - acc: 0.6238\n",
      "Epoch 00001: val_acc did not improve from 0.69261\n",
      "9932/9932 [==============================] - 133s 13ms/sample - loss: 1.0810 - acc: 0.6242 - val_loss: 0.9147 - val_acc: 0.6916\n",
      "Epoch 2/10\n",
      "9856/9932 [============================>.] - ETA: 0s - loss: 1.0726 - acc: 0.6239\n",
      "Epoch 00002: val_acc improved from 0.69261 to 0.69361, saving model to TF Keras Concat Weights Concat.hdf5\n",
      "9932/9932 [==============================] - 131s 13ms/sample - loss: 1.0720 - acc: 0.6242 - val_loss: 0.9101 - val_acc: 0.6936\n",
      "Epoch 3/10\n",
      "9856/9932 [============================>.] - ETA: 0s - loss: 1.0674 - acc: 0.6260\n",
      "Epoch 00003: val_acc improved from 0.69361 to 0.69461, saving model to TF Keras Concat Weights Concat.hdf5\n",
      "9932/9932 [==============================] - 136s 14ms/sample - loss: 1.0674 - acc: 0.6263 - val_loss: 0.9052 - val_acc: 0.6946\n",
      "Epoch 4/10\n",
      "9856/9932 [============================>.] - ETA: 0s - loss: 1.0605 - acc: 0.6249\n",
      "Epoch 00004: val_acc did not improve from 0.69461\n",
      "9932/9932 [==============================] - 133s 13ms/sample - loss: 1.0619 - acc: 0.6243 - val_loss: 0.9015 - val_acc: 0.6946\n",
      "Epoch 5/10\n",
      "9856/9932 [============================>.] - ETA: 0s - loss: 1.0573 - acc: 0.6265\n",
      "Epoch 00005: val_acc improved from 0.69461 to 0.69661, saving model to TF Keras Concat Weights Concat.hdf5\n",
      "9932/9932 [==============================] - 134s 13ms/sample - loss: 1.0572 - acc: 0.6268 - val_loss: 0.8979 - val_acc: 0.6966\n",
      "Epoch 6/10\n",
      "9856/9932 [============================>.] - ETA: 0s - loss: 1.0517 - acc: 0.6279\n",
      "Epoch 00006: val_acc improved from 0.69661 to 0.69960, saving model to TF Keras Concat Weights Concat.hdf5\n",
      "9932/9932 [==============================] - 131s 13ms/sample - loss: 1.0521 - acc: 0.6278 - val_loss: 0.8952 - val_acc: 0.6996\n",
      "Epoch 7/10\n",
      "9856/9932 [============================>.] - ETA: 0s - loss: 1.0464 - acc: 0.6292\n",
      "Epoch 00007: val_acc improved from 0.69960 to 0.70659, saving model to TF Keras Concat Weights Concat.hdf5\n",
      "9932/9932 [==============================] - 132s 13ms/sample - loss: 1.0462 - acc: 0.6294 - val_loss: 0.8918 - val_acc: 0.7066\n",
      "Epoch 8/10\n",
      "9856/9932 [============================>.] - ETA: 0s - loss: 1.0422 - acc: 0.6276\n",
      "Epoch 00008: val_acc improved from 0.70659 to 0.70758, saving model to TF Keras Concat Weights Concat.hdf5\n",
      "9932/9932 [==============================] - 132s 13ms/sample - loss: 1.0422 - acc: 0.6273 - val_loss: 0.8895 - val_acc: 0.7076\n",
      "Epoch 9/10\n",
      "9856/9932 [============================>.] - ETA: 0s - loss: 1.0357 - acc: 0.6320\n",
      "Epoch 00009: val_acc improved from 0.70758 to 0.70858, saving model to TF Keras Concat Weights Concat.hdf5\n",
      "9932/9932 [==============================] - 131s 13ms/sample - loss: 1.0369 - acc: 0.6314 - val_loss: 0.8861 - val_acc: 0.7086\n",
      "Epoch 10/10\n",
      "9856/9932 [============================>.] - ETA: 0s - loss: 1.0328 - acc: 0.6308\n",
      "Epoch 00010: val_acc improved from 0.70858 to 0.70958, saving model to TF Keras Concat Weights Concat.hdf5\n",
      "9932/9932 [==============================] - 131s 13ms/sample - loss: 1.0326 - acc: 0.6306 - val_loss: 0.8837 - val_acc: 0.7096\n"
     ]
    }
   ],
   "source": [
    "# Fit the model\n",
    "\n",
    "concat_history = concat_model.fit(\n",
    "    [X_train_data, X_train_image], Y_train_data, \n",
    "    epochs=10, \n",
    "    batch_size=128,\n",
    "    validation_data=([X_test_data, X_test_image], Y_test_data), callbacks=callbacks_list)"
   ]
  },
  {
   "cell_type": "code",
   "execution_count": 91,
   "metadata": {},
   "outputs": [],
   "source": [
    "acc = history.history['acc']\n",
    "val_acc = history.history['val_acc']\n",
    "loss = history.history['loss']\n",
    "val_loss = history.history['val_loss']\n",
    "epochs = range(len(acc))"
   ]
  },
  {
   "cell_type": "code",
   "execution_count": 92,
   "metadata": {},
   "outputs": [
    {
     "data": {
      "text/plain": [
       "[<matplotlib.lines.Line2D at 0x1a94c37f90>]"
      ]
     },
     "execution_count": 92,
     "metadata": {},
     "output_type": "execute_result"
    },
    {
     "data": {
      "image/png": "[encoded data removed]",
      "text/plain": [
       "<Figure size 432x288 with 1 Axes>"
      ]
     },
     "metadata": {
      "needs_background": "light"
     },
     "output_type": "display_data"
    }
   ],
   "source": [
    "plt.plot(epochs, acc, 'r')\n",
    "plt.plot(epochs, val_acc, 'b')"
   ]
  },
  {
   "cell_type": "code",
   "execution_count": 93,
   "metadata": {},
   "outputs": [
    {
     "data": {
      "text/plain": [
       "[<matplotlib.lines.Line2D at 0x1a948887d0>]"
      ]
     },
     "execution_count": 93,
     "metadata": {},
     "output_type": "execute_result"
    },
    {
     "data": {
      "image/png": "[encoded data removed]",
      "text/plain": [
       "<Figure size 432x288 with 1 Axes>"
      ]
     },
     "metadata": {
      "needs_background": "light"
     },
     "output_type": "display_data"
    }
   ],
   "source": [
    "plt.plot(epochs, loss, 'r')\n",
    "plt.plot(epochs, val_loss, 'b')"
   ]
  },
  {
   "cell_type": "code",
   "execution_count": 94,
   "metadata": {},
   "outputs": [],
   "source": [
    "predictions = concat_model.predict([X_test_data, X_test_image])"
   ]
  },
  {
   "cell_type": "code",
   "execution_count": 95,
   "metadata": {},
   "outputs": [],
   "source": [
    "Y_test_data_decode = np.argmax(Y_test_data, axis=1)"
   ]
  },
  {
   "cell_type": "code",
   "execution_count": 96,
   "metadata": {},
   "outputs": [],
   "source": [
    "predictions_decode = np.argmax(predictions, axis=1)"
   ]
  },
  {
   "cell_type": "code",
   "execution_count": 97,
   "metadata": {},
   "outputs": [
    {
     "name": "stdout",
     "output_type": "stream",
     "text": [
      "[[ 20  86   0   2   0   3   0]\n",
      " [  2 668   0   0   0   0   0]\n",
      " [  1   9   0   1   0   0   0]\n",
      " [  6  99   0   5   0   2   0]\n",
      " [  0  17   0   0   0   0   0]\n",
      " [ 10  27   0   3   0   7   1]\n",
      " [ 11  20   0   0   0   2   0]]\n"
     ]
    }
   ],
   "source": [
    "print(confusion_matrix(Y_test_data_decode, predictions_decode))"
   ]
  },
  {
   "cell_type": "code",
   "execution_count": 98,
   "metadata": {},
   "outputs": [
    {
     "name": "stdout",
     "output_type": "stream",
     "text": [
      "              precision    recall  f1-score   support\n",
      "\n",
      "           0       0.40      0.18      0.25       111\n",
      "           1       0.72      1.00      0.84       670\n",
      "           2       0.00      0.00      0.00        11\n",
      "           3       0.45      0.04      0.08       112\n",
      "           4       0.00      0.00      0.00        17\n",
      "           5       0.50      0.15      0.23        48\n",
      "           6       0.00      0.00      0.00        33\n",
      "\n",
      "    accuracy                           0.70      1002\n",
      "   macro avg       0.30      0.20      0.20      1002\n",
      "weighted avg       0.60      0.70      0.61      1002\n",
      "\n"
     ]
    },
    {
     "name": "stderr",
     "output_type": "stream",
     "text": [
      "/Users/philgodley/opt/anaconda3/lib/python3.7/site-packages/sklearn/metrics/classification.py:1437: UndefinedMetricWarning: Precision and F-score are ill-defined and being set to 0.0 in labels with no predicted samples.\n",
      "  'precision', 'predicted', average, warn_for)\n"
     ]
    }
   ],
   "source": [
    "print(classification_report(Y_test_data_decode, predictions_decode))"
   ]
  },
  {
   "cell_type": "code",
   "execution_count": null,
   "metadata": {},
   "outputs": [],
   "source": []
  }
 ],
 "metadata": {
  "kernelspec": {
   "display_name": "Python 3",
   "language": "python",
   "name": "python3"
  },
  "language_info": {
   "codemirror_mode": {
    "name": "ipython",
    "version": 3
   },
   "file_extension": ".py",
   "mimetype": "text/x-python",
   "name": "python",
   "nbconvert_exporter": "python",
   "pygments_lexer": "ipython3",
   "version": "3.7.4"
  }
 },
 "nbformat": 4,
 "nbformat_minor": 2
}
